{
 "cells": [
  {
   "cell_type": "markdown",
   "metadata": {},
   "source": [
    "# Required text \n",
    "\n",
    "<a href=\"https://www.amazon.com/Neural-Networks-Learning-Machines-3rd/dp/0131471392\">Neural Networks and Learning Machines</a>\n",
    "\n",
    "<img src=\"https://images-na.ssl-images-amazon.com/images/I/51b1PWBu6uL._SX354_BO1,204,203,200_.jpg\">\n",
    "\n",
    "or\n",
    "\n",
    "<a href=\"https://www.amazon.com/Neural-Networks-Comprehensive-Foundation-2nd/dp/0132733501/ref=pd_sbs_14_1/139-1822068-5815442?_encoding=UTF8&pd_rd_i=0132733501&pd_rd_r=ebcae593-86f4-40dc-b1b2-d4d88922d805&pd_rd_w=FDCCM&pd_rd_wg=Trmn0&pf_rd_p=bdd201df-734f-454e-883c-73b0d8ccd4c3&pf_rd_r=3ED0BBZ7ARS809890MD0&psc=1&refRID=3ED0BBZ7ARS809890MD0\">Neural Networks: A Comprehensive Foundation</a>\n",
    "    \n",
    "<img src=\"https://d1w7fb2mkkr3kw.cloudfront.net/assets/images/book/lrg/9780/1327/9780132733502.jpg\">\n",
    "    \n",
    "# Optional text (free)\n",
    "\n",
    "<a href=\"https://www.deeplearningbook.org\">https://www.deeplearningbook.org</a>\n",
    "\n",
    "<img src=\"https://mitpress.mit.edu/sites/default/files/styles/large_book_cover/http/mitp-content-server.mit.edu%3A18180/books/covers/cover/%3Fcollid%3Dbooks_covers_0%26isbn%3D9780262035613%26type%3D.jpg?itok=opJUfdCT\">"
   ]
  },
  {
   "cell_type": "markdown",
   "metadata": {},
   "source": [
    "# Syllabus\n",
    "\n",
    "---\n",
    "\n",
    "### Grading Scale\n",
    "\n",
    "Assigned on a linguistic \"A+\", \"A\", \"A-\", \"B+\", etc. scale\n",
    "\n",
    "### Exams, Projects, and Participation\n",
    "\n",
    "* 50% exams\n",
    " * Exam 1: 25%\n",
    " * Exam 2: 25%\n",
    "* 45% projects\n",
    " * Project 1: 10%\n",
    " * Project 2: 10%\n",
    " * Project 3: 10%\n",
    " * Final presentation: 15%\n",
    "* Attendance and participation\n",
    " * This is IMPORTANT: 5%"
   ]
  },
  {
   "cell_type": "markdown",
   "metadata": {},
   "source": [
    "### COVID-19 Mizzou Messages\n",
    "\n",
    "https://provost.missouri.edu/syllabus-information/\n",
    "\n",
    "### Academic Dishonesty\n",
    "\n",
    "Academic integrity is fundamental to the activities and principles of a university. All members of the academic community must be confident that each person's work has been responsibly and honorably acquired, developed, and presented. Any effort to gain an advantage not given to all students is dishonest whether or not the effort is successful. The academic community regards breaches of the academic integrity rules as extremely serious matters. Sanctions for such a breach may include academic sanctions from the instructor, including failing the course for any violation, to disciplinary sanctions ranging from probation to expulsion. When in doubt about plagiarism, paraphrasing, quoting, collaboration, or any other form of cheating, consult the course instructor. \n",
    "\n",
    "### Students with Disabilities\n",
    "\n",
    "If you anticipate barriers related to the format or requirements of this course, if you have emergency medical information to share with me, or if you need to make arrangements in case the building must be evacuated, please let me know as soon as possible. If disability related accommodations are necessary (for example, a note taker, extended time on exams, captioning), please establish an accommodation plan with the MU Disability Center, S5 Memorial Union, 573-882-4696, and then notify me of your eligibility for reasonable accommodations. For other MU resources for persons with disabilities, click on \"Disability Resources\" on the MU homepage.\n",
    "\n",
    "### Intellectual Pluralism\n",
    "\n",
    "The University community welcomes intellectual diversity and respects student rights. Students who have questions or concerns regarding the atmosphere in this class (including respect for diverse opinions) may contact the departmental chair or divisional director; the director of the Office of Students Rights and Responsibilities; the MU Equity Office, or equity@missouri.edu. All students will have the opportunity to submit an anonymous evaluation of the instructor(s) at the end of the course."
   ]
  }
 ],
 "metadata": {
  "kernelspec": {
   "display_name": "Python 3",
   "language": "python",
   "name": "python3"
  },
  "language_info": {
   "codemirror_mode": {
    "name": "ipython",
    "version": 3
   },
   "file_extension": ".py",
   "mimetype": "text/x-python",
   "name": "python",
   "nbconvert_exporter": "python",
   "pygments_lexer": "ipython3",
   "version": "3.8.8"
  }
 },
 "nbformat": 4,
 "nbformat_minor": 4
}
