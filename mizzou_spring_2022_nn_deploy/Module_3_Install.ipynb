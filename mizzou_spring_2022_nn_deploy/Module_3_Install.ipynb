{
 "cells": [
  {
   "cell_type": "markdown",
   "metadata": {},
   "source": [
    "# How to install all the software you need?\n",
    "\n",
    "See the Canvas site message to get started"
   ]
  },
  {
   "cell_type": "markdown",
   "metadata": {},
   "source": [
    "### Links to useful packages\n",
    "\n",
    "Examples will be provided in Python. \n",
    "  * https://www.w3schools.com/python/python_intro.asp\n",
    "\n",
    "Specifically, we will use packages like\n",
    "\n",
    "**Scikit** (Machine Learning in Python)\n",
    "  * https://scikit-learn.org/stable/index.html\n",
    "  * https://scikit-learn.org/stable/documentation.html\n",
    "  * install https://scikit-learn.org/stable/install.html\n",
    "\n",
    "**NumPy** (scientific computing with Python)\n",
    "  * http://www.numpy.org/\n",
    "  \n",
    "**PyTorch** (open source NN and deep learning platform)\n",
    "  * https://pytorch.org/\n",
    "  * https://hsaghir.github.io/data_science/pytorch_starter/\n",
    "  * https://medium.com/@layog/a-comprehensive-overview-of-pytorch-7f70b061963f\n",
    "  * https://en.wikipedia.org/wiki/Automatic_differentiation\n",
    "  * https://pytorch.org/tutorials/\n",
    "  * https://pytorch.org/tutorials/beginner/deep_learning_60min_blitz.html\n",
    "  \n",
    "**TensorFlow** (open source machine learning framework)\n",
    "  * https://www.tensorflow.org/\n",
    "\n",
    "**Matplotlib**\n",
    "  * https://matplotlib.org/\n",
    "\n",
    "**TensorBoard**\n",
    "  * https://www.tensorflow.org/tensorboard\n",
    "  \n",
    "**Anaconda**\n",
    "\n",
    "Follow https://docs.anaconda.com/anaconda/install/\n",
    "\n",
    "**OpenCV**\n",
    "\n",
    "  * https://docs.opencv.org/master/d2/de6/tutorial_py_setup_in_ubuntu.html\n",
    "\n",
    "**Python**\n",
    "\n",
    "  * https://docs.python-guide.org/starting/install3/linux/"
   ]
  },
  {
   "cell_type": "markdown",
   "metadata": {},
   "source": [
    "# A way to pip install things\n",
    "\n",
    "*Note: not sure if you want to use pip, you might just want to keep with conda!*\n",
    "\n",
    "Run the following\n",
    "  * pip install -r requirements.txt\n",
    "  \n",
    "The following is what you need to put into a file called requirements.txt"
   ]
  },
  {
   "cell_type": "raw",
   "metadata": {},
   "source": [
    "# base -------------------------------\n",
    "Cython\n",
    "matplotlib>=3.2.2\n",
    "numpy>=1.18.5\n",
    "opencv-python>=4.1.2\n",
    "Pillow\n",
    "PyYAML>=5.3\n",
    "scipy>=1.4.1\n",
    "tensorboard>=2.2\n",
    "torch>=1.7.0\n",
    "torchvision>=0.8.1\n",
    "tqdm>=4.41.0\n",
    "\n",
    "# plotting ---------------------------\n",
    "seaborn>=0.11.0\n",
    "pandas"
   ]
  },
  {
   "cell_type": "markdown",
   "metadata": {},
   "source": [
    "# Updating/installing Conda via yml file\n",
    "\n",
    "*Note: you could do a yml file install, but not **simple** across platforms*\n",
    "\n",
    "To create and install from, use\n",
    " * conda env create -f \\<path_to_local_file.yml\\>\n",
    " * conda activate \\<environment_name\\>\n",
    "\n",
    "To update, use \n",
    " * conda activate \\<environment_name\\>\n",
    " * conda env update -f \\<path_to_local_file.yml\\>\n",
    " \n",
    "Below is an example local.yml file"
   ]
  },
  {
   "cell_type": "raw",
   "metadata": {},
   "source": [
    "name: derek_env_name\n",
    "\n",
    "dependencies:\n",
    "  - python=3.7\n",
    "  - matplotlib\n",
    "  - numpy\n",
    "  - mkl\n",
    "  - jupyter\n",
    "  - pandas\n",
    "  - seaborn\n",
    "  - pytorch\n",
    "  - torchvision"
   ]
  },
  {
   "cell_type": "markdown",
   "metadata": {},
   "source": [
    "# Manual Conda route\n",
    "\n",
    "You might want to do the following vs the yml file route above"
   ]
  },
  {
   "cell_type": "raw",
   "metadata": {},
   "source": [
    "conda install -c anaconda pandas -y\n",
    "conda install -c conda-forge opencv -y\n",
    "conda install -c conda-forge jupyter pyyaml tqdm matplotlib ipython pillow scikit-learn=0.22.1 metric-learn -y\n",
    "conda install -c pytorch torchvision cudatoolkit=10.1 -y"
   ]
  }
 ],
 "metadata": {
  "kernelspec": {
   "display_name": "Python 3",
   "language": "python",
   "name": "python3"
  },
  "language_info": {
   "codemirror_mode": {
    "name": "ipython",
    "version": 3
   },
   "file_extension": ".py",
   "mimetype": "text/x-python",
   "name": "python",
   "nbconvert_exporter": "python",
   "pygments_lexer": "ipython3",
   "version": "3.8.8"
  }
 },
 "nbformat": 4,
 "nbformat_minor": 4
}
